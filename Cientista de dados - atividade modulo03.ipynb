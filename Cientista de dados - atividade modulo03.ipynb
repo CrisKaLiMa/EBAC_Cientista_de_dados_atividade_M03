{
 "cells": [
  {
   "cell_type": "markdown",
   "id": "b4c081ac",
   "metadata": {},
   "source": [
    "### 01 - Teste de gravidez\n",
    "Código para avaliar resultado de teste de gravidez\n",
    "\n",
    "Premissas: só mulheres podem testar positivo; o valor do beta hcg acima de 5 apresenta resultado positivo.\n",
    "\n",
    "Criaremos 2 variáveis:\n",
    "\n",
    "- ```sexo``` como ```str``` indicando os valores '**M**' para masculino e '**F**' para feminino  \n",
    "- ```beta_hcg``` que indica a quantidade do beta-HCG no sangue em mUI/mL.\n",
    "\n",
    "O código deve imprimir como resultado \"indivíduo do sexo masculino\" quando sexo = 'M', caso sexo = 'F', se o valor de beta-HCG for maior que 5, retorne \"Positivo\" indicando que a paciente está grávida, e retornar \"Negativo\" caso contrário.\n",
    "\n",
    "O código precisa funcionar para quaisquer valores possíveis de ambos: ```sexo``` = '**M**' ou '**F**' e ```beta_hcg``` assumindo valores inteiros positivos."
   ]
  },
  {
   "cell_type": "code",
   "execution_count": 1,
   "id": "68aedff6",
   "metadata": {},
   "outputs": [
    {
     "name": "stdout",
     "output_type": "stream",
     "text": [
      "Homens não ficam grávidos, pelo menos ainda não!\n"
     ]
    }
   ],
   "source": [
    "sexo = 'M'\n",
    "beta_hcg = 6\n",
    "\n",
    "if sexo=='M':\n",
    "    print(\"Homens não ficam grávidos, pelo menos ainda não!\")\n",
    "    \n",
    "else:\n",
    "    print(\"Bem-vinda! Informe o valor do beta_hcg\")\n",
    "    if beta_hcg>5:\n",
    "        print(\"Teste de gravidez: Positivo\")\n",
    "    else:\n",
    "        print(\"Teste de gravidez: Negativo\")"
   ]
  },
  {
   "cell_type": "markdown",
   "id": "fe072810",
   "metadata": {},
   "source": [
    "### 02 - Renomeando variáveis\n",
    "\n",
    "O dicionário deve conter como chave o nome original, associando a cada chave um único valor (tipo *str*) que contenha o nome novo.\n",
    "\n",
    "A tarefa aqui é escrever um dicionário que possa ser utilizado para traduzir as variáveis ```name``` (nome), ```age``` (idade) e ```income``` (renda). Ou seja, esse dicionário deve relacionar as chaves *name, age* e *income* às suas respectivas traduções."
   ]
  },
  {
   "cell_type": "code",
   "execution_count": 2,
   "id": "da17d311",
   "metadata": {},
   "outputs": [
    {
     "data": {
      "text/plain": [
       "{'name': 'Krika', 'age': 30, 'renda': 10000}"
      ]
     },
     "execution_count": 2,
     "metadata": {},
     "output_type": "execute_result"
    }
   ],
   "source": [
    "dic_renomeacao = {'name':'Krika', 'age': 30, 'renda': 10000}\n",
    "dic_renomeacao"
   ]
  },
  {
   "cell_type": "markdown",
   "id": "fd3d2cd8",
   "metadata": {},
   "source": [
    "### 03 - É divisível?\n",
    "O treinamento aqui é escrever um código que indique se um número ```N``` é divisível por um número ```M```. Vamos escrever um programa que faça essa verificação para quaisquer combinações de ```N``` e ```M```."
   ]
  },
  {
   "cell_type": "code",
   "execution_count": 3,
   "id": "9646c088",
   "metadata": {},
   "outputs": [
    {
     "name": "stdout",
     "output_type": "stream",
     "text": [
      "O Número 'N' não é divisível pelo número 'M'\n"
     ]
    }
   ],
   "source": [
    "N = 44\n",
    "M = 7\n",
    "\n",
    "if N %M == 0:\n",
    "    print(\"O número 'N' é divisível pelo número 'M'\")\n",
    "else:\n",
    "    print(\"O Número 'N' não é divisível pelo número 'M'\")"
   ]
  },
  {
   "cell_type": "markdown",
   "id": "e1938ef6",
   "metadata": {},
   "source": [
    "### 04 - Números primos\n",
    "> Um número **N** é primo se e somente se é divisível por 1, -1, por **N** e por -**N**.  \n",
    "\n",
    "A tarefa aqui é escrever um script que verifica se ```N``` é um número primo, verificando se ```N``` é divisível por todos os números de ```1``` a ```N-1```. "
   ]
  },
  {
   "cell_type": "code",
   "execution_count": 4,
   "id": "96b60a34",
   "metadata": {},
   "outputs": [
    {
     "name": "stdout",
     "output_type": "stream",
     "text": [
      "O número 'N' é primo\n"
     ]
    }
   ],
   "source": [
    "N = 47\n",
    "count = 0\n",
    "# (N+1) porque o intervalo é aberto, e para 1 número ser primo, ele só é divisível por 1 e por ele mesmo\n",
    "for i in range(1, N+1): \n",
    "    if N % i == 0:\n",
    "        count += 1\n",
    "if count == 2:\n",
    "    print(\"O número 'N' é primo\")\n",
    "else:\n",
    "    print(\"O número 'N' não é um primo\")"
   ]
  },
  {
   "cell_type": "markdown",
   "id": "f849ceb5",
   "metadata": {},
   "source": [
    "### 05 - Desafio\n",
    "O algorítmo do exercício anterior não é o mais eficiente. O que você pode fazer para deixá-lo mais eficiente? Ou seja, executar menos comparações, portanto consumir menos tempo.\n",
    "1. Será que precisamos correr o loop até o final sempre?\n",
    "2. Será que precisamos mesmo verificar **todos** os números?\n",
    "3. Será que precisamos ir até N-1?\n",
    "\n",
    "Essas perguntas levam ao tipo de pensamento voltado a deixar um algoritmo mais eficiente. Veja se você consegue melhorar o seu."
   ]
  },
  {
   "cell_type": "code",
   "execution_count": 5,
   "id": "f56b64e8",
   "metadata": {},
   "outputs": [
    {
     "name": "stdout",
     "output_type": "stream",
     "text": [
      "True\n"
     ]
    }
   ],
   "source": [
    "n = 7  # Por exemplo\n",
    "\n",
    "def is_prime(n):\n",
    "    if n <= 1:\n",
    "        return False  # O número 1 não é primo\n",
    "    for i in range(2, int(n**0.5) + 1):\n",
    "        if n % i == 0:\n",
    "            return False\n",
    "\n",
    "    return True\n",
    "\n",
    "print(is_prime(n))"
   ]
  },
  {
   "cell_type": "markdown",
   "id": "fc7ef99f",
   "metadata": {},
   "source": [
    "### 06 - Peso ideal 1\n",
    "O IMC (índice de massa corpórea) é um indicador de saúde mais bem aceito que o peso. Ele é calculado como:\n",
    "\n",
    "$$ IMC = \\dfrac{peso}{altura^2}$$\n",
    "\n",
    "Segundo a OMS, valores *normais* são entre 18.5 e 24.9.\n",
    "\n",
    "A tarefa é encontrar o ponto médio dessa faixa."
   ]
  },
  {
   "cell_type": "code",
   "execution_count": 6,
   "id": "60fa4ad2",
   "metadata": {},
   "outputs": [
    {
     "name": "stdout",
     "output_type": "stream",
     "text": [
      "21.7\n"
     ]
    }
   ],
   "source": [
    "imc_normal = [18.5, 24.9]\n",
    "imc_ideal = sum(imc_normal)/len(imc_normal)\n",
    "\n",
    "print(imc_ideal)"
   ]
  },
  {
   "cell_type": "markdown",
   "id": "00c96783",
   "metadata": {},
   "source": [
    "### 07 - Peso ideal 2\n",
    "Recebendo um valor de altura, encontrar o peso '*ideal*' dessa pessoa, que fornece o IMC encontrado acima"
   ]
  },
  {
   "cell_type": "code",
   "execution_count": 7,
   "id": "409778a9",
   "metadata": {},
   "outputs": [
    {
     "name": "stdout",
     "output_type": "stream",
     "text": [
      "62.71\n"
     ]
    }
   ],
   "source": [
    "altura = 1.70\n",
    "\n",
    "peso_ideal = round(imc_ideal*altura*altura, 2)\n",
    "print(peso_ideal)"
   ]
  },
  {
   "cell_type": "markdown",
   "id": "a559607b",
   "metadata": {},
   "source": [
    "### 08 - Peso ideal 3\n",
    "Dada uma lista contendo as alturas de pacientes, crie uma nova lista que contenha o peso '*ideal*' (que fornece o IMC calculado em **Peso ideal 1**) desses pacientes."
   ]
  },
  {
   "cell_type": "code",
   "execution_count": 8,
   "id": "9c04689b",
   "metadata": {},
   "outputs": [
    {
     "name": "stdout",
     "output_type": "stream",
     "text": [
      "[82.51, 91.19, 62.71, 59.08]\n"
     ]
    }
   ],
   "source": [
    "lista_alturas = [1.95, 2.05, 1.70, 1.65]\n",
    "lista_peso_ideal = []\n",
    "\n",
    "for i in range(0, len(lista_alturas), 1):\n",
    "    peso_ideal = round(imc_ideal*lista_alturas[i]*lista_alturas[i], 2)\n",
    "    lista_peso_ideal.append(peso_ideal)\n",
    "\n",
    "print(lista_peso_ideal)"
   ]
  },
  {
   "cell_type": "markdown",
   "id": "bbe3b1f1",
   "metadata": {},
   "source": [
    "### 09 - Peso ideal 4\n",
    "Dada uma lista de tuplas - cada elemento da lista é uma tupla contendo altura e peso de um paciente - vamos criar uma nova lista com o IMC desses pacientes."
   ]
  },
  {
   "cell_type": "code",
   "execution_count": 9,
   "id": "e31d10dd",
   "metadata": {},
   "outputs": [
    {
     "name": "stdout",
     "output_type": "stream",
     "text": [
      "[27.78, 27.55, 19.19]\n"
     ]
    }
   ],
   "source": [
    "altura_peso = [(1.80, 90), (1.65, 75), (1.91, 70)]\n",
    "imc =[]\n",
    "\n",
    "for pessoa in altura_peso:\n",
    "    imc_pessoa = round(pessoa[1]/(pessoa[0]**2), 2)\n",
    "    imc.append(imc_pessoa)\n",
    "print(imc)\n"
   ]
  },
  {
   "cell_type": "markdown",
   "id": "152b12e7",
   "metadata": {},
   "source": [
    "### 10 - Peso ideal 5\n",
    "Dada uma lista de **listas** - cada elemento da lista é uma **lista** contendo altura e peso de um paciente, vamos adicionar mais um elemento à lista de cada paciente contendo o IMC do paciente. Verificaremos também se é 'baixo', 'normal' ou 'alto' segundo os padrões da OMS em que normal é entre 18.5 e 24.9.\n",
    "\n",
    "Reflexão: por que no problema anterior temos que criar uma nova lista, e não podemos adicionar os dados de cada indivíduo à tupla?"
   ]
  },
  {
   "cell_type": "code",
   "execution_count": 12,
   "id": "792dd998",
   "metadata": {},
   "outputs": [
    {
     "name": "stdout",
     "output_type": "stream",
     "text": [
      "[[1.8, 90, 27.78, 'imc alto'], [1.65, 75, 27.55, 'imc alto'], [1.91, 70, 19.19, 'imc normal']]\n"
     ]
    }
   ],
   "source": [
    "altura_peso = [[1.80, 90], [1.65, 75], [1.91, 70]]\n",
    "\n",
    "for i in altura_peso:\n",
    "    imc = round(i[1]/(i[0]**2), 2)\n",
    "    i.append(imc)\n",
    "    if (imc > 24.9):\n",
    "        i.append('imc alto')\n",
    "    elif (imc >= 18.5):\n",
    "        i.append('imc normal')\n",
    "    else:\n",
    "        i.append('imc baixo')\n",
    "print(altura_peso)"
   ]
  },
  {
   "cell_type": "markdown",
   "id": "55b83c39",
   "metadata": {},
   "source": [
    "Reflexão:\n",
    "\n",
    "No exercício anterior, temos uma lista de tuplas.\n",
    "Tuplas são uma sequência de objetos imutáveis, em outras palavras, uma vez criadas, tuplas não podem ser modificadas. Não é permitido acrescentar elementos a uma tupla. Daí a necessidade da criação de uma segunda lista com os dados do imc das pessoas.\n",
    "\n",
    "Nesse exercício temos uma lista de listas.\n",
    "Listas são coleções de dados ordenados e mutáveis, nesse caso, possibilita o acréscimo de elementos novos a ela. Não há necessidade de criarmos uma nova lista com os elementos que queremos adicionar, basta adicionar diretamente."
   ]
  }
 ],
 "metadata": {
  "kernelspec": {
   "display_name": "Python 3 (ipykernel)",
   "language": "python",
   "name": "python3"
  },
  "language_info": {
   "codemirror_mode": {
    "name": "ipython",
    "version": 3
   },
   "file_extension": ".py",
   "mimetype": "text/x-python",
   "name": "python",
   "nbconvert_exporter": "python",
   "pygments_lexer": "ipython3",
   "version": "3.11.3"
  }
 },
 "nbformat": 4,
 "nbformat_minor": 5
}
